{
 "cells": [
  {
   "cell_type": "code",
   "execution_count": 1,
   "metadata": {},
   "outputs": [
    {
     "name": "stderr",
     "output_type": "stream",
     "text": [
      "USER_AGENT environment variable not set, consider setting it to identify your requests.\n",
      "/home/ali/Desktop/QA/RAG/loca-rag/env/lib/python3.10/site-packages/tqdm/auto.py:21: TqdmWarning: IProgress not found. Please update jupyter and ipywidgets. See https://ipywidgets.readthedocs.io/en/stable/user_install.html\n",
      "  from .autonotebook import tqdm as notebook_tqdm\n"
     ]
    }
   ],
   "source": [
    "from langchain.embeddings import OpenAIEmbeddings\n",
    "from langchain_community.document_loaders import HNLoader\n",
    "from langchain_groq import ChatGroq\n",
    "from langchain.document_loaders import PyPDFLoader\n",
    "from langchain.text_splitter import RecursiveCharacterTextSplitter\n",
    "from langchain.vectorstores import Chroma\n",
    "from langchain_community.vectorstores import FAISS\n",
    "import bs4\n",
    "from langchain.chains import create_history_aware_retriever, create_retrieval_chain\n",
    "from langchain.chains.combine_documents import create_stuff_documents_chain\n",
    "from langchain_community.chat_message_histories import ChatMessageHistory\n",
    "from langchain_community.document_loaders import WebBaseLoader\n",
    "from langchain_core.chat_history import BaseChatMessageHistory\n",
    "from langchain_core.prompts import ChatPromptTemplate, MessagesPlaceholder\n",
    "from langchain_core.runnables.history import RunnableWithMessageHistory\n",
    "from langchain_openai import ChatOpenAI, OpenAIEmbeddings\n",
    "from langchain_text_splitters import RecursiveCharacterTextSplitter\n",
    "from langchain.retrievers import ContextualCompressionRetriever\n",
    "from langchain_community.document_compressors import FlashrankRerank\n",
    "from langchain.retrievers import ContextualCompressionRetriever\n",
    "from langchain.retrievers.document_compressors import LLMChainExtractor\n",
    "from langchain_core.messages import trim_messages\n",
    "from langchain_core.runnables import RunnablePassthrough\n",
    "from operator import itemgetter\n",
    "from langchain.document_loaders import TextLoader\n",
    "from langchain.text_splitter import RecursiveCharacterTextSplitter\n",
    "from sentence_transformers import SentenceTransformer\n",
    "from langchain_community.embeddings import HuggingFaceBgeEmbeddings\n"
   ]
  },
  {
   "cell_type": "code",
   "execution_count": 2,
   "metadata": {},
   "outputs": [],
   "source": [
    "\n",
    "# Create embedding model for LangChain\n",
    "embedding_model = HuggingFaceBgeEmbeddings(\n",
    "    model_name=\"BAAI/bge-m3\",\n",
    "    model_kwargs={\"device\": \"cpu\"},  # یا \"cuda\" برای GPU\n",
    "    encode_kwargs={\"normalize_embeddings\": True}\n",
    ")\n",
    "\n"
   ]
  },
  {
   "cell_type": "code",
   "execution_count": 3,
   "metadata": {},
   "outputs": [],
   "source": [
    "\n",
    "\n",
    "# Step 1: Load the .txt file\n",
    "loader = TextLoader(\"/home/ali/Desktop/QA/RAG/sadegh.txt\", encoding=\"utf-8\")\n",
    "documents = loader.load()\n",
    "text_splitter = RecursiveCharacterTextSplitter(\n",
    "    chunk_size=1000,\n",
    "    chunk_overlap=100,\n",
    "    separators=[\"\\n\\n\", \"\\n\", \".\", \" \"]  # optional, helps preserve meaning\n",
    ")\n",
    "\n",
    "docs = text_splitter.split_documents(documents) "
   ]
  },
  {
   "cell_type": "code",
   "execution_count": 4,
   "metadata": {},
   "outputs": [],
   "source": [
    "base_url = \"https://api.avalai.ir/v1\"\n",
    "api_key = \"\"\n",
    "\n",
    "#model_name = \"gpt-4o\"\n",
    "\n",
    "# استفاده از مدل gemini-2.0-flash-exp\n",
    "model_name = \"gemini-2.0-flash\"\n",
    "#model_name = 'deepseek-chat'\n",
    "# استفاده از مدل anthropic.claude-3-5-sonnet-20240620-v1:0\n",
    "# model_name = \"anthropic.claude-3-5-sonnet-20240620-v1:0\"\n",
    "\n",
    "llm = ChatOpenAI(\n",
    "    base_url=base_url,\n",
    "    model=model_name,\n",
    "    api_key=api_key,\n",
    ")\n",
    "\n"
   ]
  },
  {
   "cell_type": "code",
   "execution_count": 35,
   "metadata": {},
   "outputs": [],
   "source": [
    "embeddings = OpenAIEmbeddings(\n",
    "    model=\"text-embedding-ada-002\",  # Specify the embedding model\n",
    "    base_url=\"https://api.avalai.ir/v1\",  # Your custom endpoint\n",
    "    api_key=\"\"  # API key for authentication\n",
    ")\n",
    "\n",
    "\n",
    "\n"
   ]
  },
  {
   "cell_type": "code",
   "execution_count": 5,
   "metadata": {},
   "outputs": [],
   "source": [
    "vector = FAISS.from_documents(docs,embedding_model) \n",
    "retriever = vector.as_retriever(search_type=\"similarity\", search_kwargs={\"k\": 8})\n"
   ]
  },
  {
   "cell_type": "code",
   "execution_count": 6,
   "metadata": {},
   "outputs": [
    {
     "name": "stdout",
     "output_type": "stream",
     "text": [
      "در سال ۱۳۲۶ به نوشتن توپ مرواری پرداخت اما این اثر تا پس از مرگش به چاپ نرسید. معروف‌ترین نام مستعار او که توپ مرواری هم تحت آن منتشر شد هادی صداقت است. در ۱۳۲۷ مقالهٔ «پیام کافکا» به‌صورت مقدمه‌ای بر کتاب گروه محکومین نوشتهٔ کافکا و ترجمهٔ حسن قائمیان نوشت. در سال ۱۳۲۹ با همکاری حسن قائمیان داستان «مسخ» کافکا را ترجمه کرد و در مجلهٔ سخن انتشار داد. در ۱۲ آذر همان سال با گرفتن گواهی پزشکی (برای اخذ روادید) و فروختن کتاب‌هایش به فرانسه رفت. در طول اقامت در فرانسه سفری به هامبورگ داشت و نیز سعی کرد به لندن برود که [موفّق] نشد. سرانجام در روز دوشنبه ۱۹ فروردین ۱۳۳۰ در آپارتمان اجاره‌ای‌اش — در خیابان شامپیونه، واقع در پاریس — با گاز خودکشی کرد.[۳۹] او نخستین نویسنده و ادیب ایرانی محسوب می‌شود که خودکشی کرده است. وی چند روز قبل از انتحار بسیاری از داستان‌های چاپ‌نشده‌اش را نابود کرده بود. هدایت را در قبرستان پرلاشز پاریس به خاک سپردند. مراسم خاکسپاری‌اش با حضور عده‌ای قلیل از ایرانیان و فرانسویان صورت گرفت.[۴۰]\n",
      "\n",
      "طراح سنگ آرامگاهِ صادق هدایت، علی سردارافخمی معمار ایرانی است.[۴۱]\n"
     ]
    }
   ],
   "source": [
    "print(retriever.invoke('صادق هدایت توپ مرواری را چه زمانی نوشت؟')[0].page_content) "
   ]
  },
  {
   "cell_type": "markdown",
   "metadata": {},
   "source": [
    "Reranking \n"
   ]
  },
  {
   "cell_type": "code",
   "execution_count": 7,
   "metadata": {},
   "outputs": [],
   "source": [
    "\n",
    "# Initialize the compressor\n",
    "compressor = FlashrankRerank(top_n=4,model = 'ms-marco-MultiBERT-L-12')\n",
    "\n",
    "# Create the compression retriever\n",
    "compression_retriever = ContextualCompressionRetriever(\n",
    "    base_compressor=compressor, \n",
    "    base_retriever=retriever  # Make sure 'retriever' is defined elsewhere in your code\n",
    ")\n",
    "\n",
    "\n",
    "\n",
    "\n",
    "\n"
   ]
  },
  {
   "cell_type": "markdown",
   "metadata": {},
   "source": [
    "Contectual Comprehension"
   ]
  },
  {
   "cell_type": "code",
   "execution_count": 76,
   "metadata": {},
   "outputs": [
    {
     "name": "stderr",
     "output_type": "stream",
     "text": [
      "INFO:httpx:HTTP Request: POST https://api.avalai.ir/v1/embeddings \"HTTP/1.1 200 OK\"\n",
      "INFO:httpx:HTTP Request: POST https://api.avalai.ir/v1/chat/completions \"HTTP/1.1 200 OK\"\n",
      "INFO:httpx:HTTP Request: POST https://api.avalai.ir/v1/chat/completions \"HTTP/1.1 200 OK\"\n",
      "INFO:httpx:HTTP Request: POST https://api.avalai.ir/v1/chat/completions \"HTTP/1.1 200 OK\"\n",
      "INFO:httpx:HTTP Request: POST https://api.avalai.ir/v1/chat/completions \"HTTP/1.1 200 OK\"\n",
      "INFO:httpx:HTTP Request: POST https://api.avalai.ir/v1/chat/completions \"HTTP/1.1 200 OK\"\n",
      "INFO:httpx:HTTP Request: POST https://api.avalai.ir/v1/chat/completions \"HTTP/1.1 200 OK\"\n",
      "INFO:httpx:HTTP Request: POST https://api.avalai.ir/v1/chat/completions \"HTTP/1.1 200 OK\"\n",
      "INFO:httpx:HTTP Request: POST https://api.avalai.ir/v1/chat/completions \"HTTP/1.1 200 OK\"\n"
     ]
    }
   ],
   "source": [
    "compressor = LLMChainExtractor.from_llm(llm)\n",
    "compression_retriever = ContextualCompressionRetriever(\n",
    "    base_compressor = compressor,\n",
    "    base_retriever = retriever\n",
    ")\n",
    "compressed_docs = compression_retriever.invoke(\n",
    "    'صادق هدایت چه زمانی خودکشی کرد؟'\n",
    ")\n"
   ]
  },
  {
   "cell_type": "code",
   "execution_count": 8,
   "metadata": {},
   "outputs": [],
   "source": [
    "contextualize_q_system_prompt = \"\"\"\n",
    "Given a chat history and the latest user question\\\n",
    "which might reference context in the chat history, formulate a standalone question \\\n",
    "which can be understood without the chat history. Do NOT answer the question, \\\n",
    "just reformulate it if needed and otherwise return it as is.\n",
    "\"\"\"\n",
    "contextualize_q_prompt = ChatPromptTemplate.from_messages(\n",
    "    [\n",
    "        ('system',contextualize_q_system_prompt),\n",
    "        MessagesPlaceholder('chat_history'),\n",
    "        ('human',\"{input}\"),\n",
    "    ]\n",
    ")\n",
    "history_aware_retriever = create_history_aware_retriever(llm,compression_retriever,contextualize_q_prompt)\n",
    "\n",
    "\n"
   ]
  },
  {
   "cell_type": "code",
   "execution_count": 9,
   "metadata": {},
   "outputs": [],
   "source": [
    "qa_system_prompt = \"\"\"You are an assistant for question-answering tasks. \\\n",
    "Use the following pieces of retrieved context to answer the question. \\\n",
    "If you don't know the answer, just say that you don't know. \\\n",
    "Use three sentences maximum and keep the answer concise.\\\n",
    "create reposponse with Persian language. \n",
    "{context}\"\"\"\n",
    "\n",
    "\n",
    "qa_prompt = ChatPromptTemplate.from_messages(\n",
    "    [\n",
    "        (\"system\", qa_system_prompt),\n",
    "        MessagesPlaceholder(\"chat_history\"),\n",
    "        (\"human\", \"{input}\"),\n",
    "    ]\n",
    ")\n",
    "question_answer_chain = create_stuff_documents_chain(llm, qa_prompt)\n",
    "rag_chain = create_retrieval_chain(history_aware_retriever, question_answer_chain)\n",
    "\n",
    "\n",
    "trimmer = trim_messages(strategy=\"last\", max_tokens=1000, token_counter=len)\n",
    "\n",
    "chain_with_trimming = (\n",
    "    # Replace the current chat_history with the trimmed chat history\n",
    "    RunnablePassthrough.assign(chat_history=itemgetter(\"chat_history\") | trimmer)\n",
    "    | rag_chain\n",
    ")\n",
    "\n",
    "\n",
    "store = {}\n",
    "def get_session_history(session_id: str) -> BaseChatMessageHistory:\n",
    "    if session_id not in store:\n",
    "        store[session_id] = ChatMessageHistory()\n",
    "    return store[session_id]\n",
    "\n",
    "\n",
    "conversational_rag_chain = RunnableWithMessageHistory(\n",
    "    chain_with_trimming,\n",
    "    get_session_history,\n",
    "    input_messages_key=\"input\",\n",
    "    history_messages_key=\"chat_history\",\n",
    "    output_messages_key=\"answer\",\n",
    ")\n",
    "\n",
    "\n",
    "\n"
   ]
  },
  {
   "cell_type": "code",
   "execution_count": 10,
   "metadata": {},
   "outputs": [
    {
     "name": "stderr",
     "output_type": "stream",
     "text": [
      "INFO:httpx:HTTP Request: POST https://api.avalai.ir/v1/chat/completions \"HTTP/1.1 200 OK\"\n"
     ]
    },
    {
     "name": "stdout",
     "output_type": "stream",
     "text": [
      "این سند درباره صادق هدایت، زندگی، شخصیت، آثار و نقدهایی بر آثار او است. این سند به برخی از جنبه‌های شخصیتی او مانند طنز قوی و انتقادی، گیاه‌خواری و دیدگاهش نسبت به شرح حال خود نیز اشاره می‌کند. همچنین، به تأثیر عمیق هدایت بر نویسندگان پس از خود اشاره دارد.\n",
      "\n"
     ]
    }
   ],
   "source": [
    "result = conversational_rag_chain.invoke(\n",
    "    {\"input\": \"این سند در مورد چیه؟\"},\n",
    "    config={\n",
    "        \"configurable\": {\"session_id\": \"a1\"}\n",
    "    },\n",
    ")[\"answer\"]\n",
    "print(result)\n"
   ]
  },
  {
   "cell_type": "code",
   "execution_count": 11,
   "metadata": {},
   "outputs": [
    {
     "name": "stderr",
     "output_type": "stream",
     "text": [
      "INFO:httpx:HTTP Request: POST https://api.avalai.ir/v1/chat/completions \"HTTP/1.1 200 OK\"\n",
      "INFO:httpx:HTTP Request: POST https://api.avalai.ir/v1/chat/completions \"HTTP/1.1 200 OK\"\n"
     ]
    },
    {
     "name": "stdout",
     "output_type": "stream",
     "text": [
      "معروف‌ترین اثر صادق هدایت، رمان بوف کور است که بسیاری از پژوهشگران آن را درخشان‌ترین اثر ادبیات داستانی معاصر ایران دانسته‌اند.\n",
      "\n"
     ]
    }
   ],
   "source": [
    "result = conversational_rag_chain.invoke(\n",
    "    {\"input\": \"معروف ترین کتاب صادق هدایت بگو\"},\n",
    "    config={\n",
    "        \"configurable\": {\"session_id\": \"a1\"}\n",
    "    },\n",
    ")[\"answer\"]\n",
    "print(result)\n",
    "\n",
    "\n"
   ]
  },
  {
   "cell_type": "code",
   "execution_count": 12,
   "metadata": {},
   "outputs": [
    {
     "name": "stderr",
     "output_type": "stream",
     "text": [
      "INFO:httpx:HTTP Request: POST https://api.avalai.ir/v1/chat/completions \"HTTP/1.1 200 OK\"\n",
      "INFO:httpx:HTTP Request: POST https://api.avalai.ir/v1/chat/completions \"HTTP/1.1 200 OK\"\n"
     ]
    },
    {
     "name": "stdout",
     "output_type": "stream",
     "text": [
      "صادق هدایت در سال ۱۳۱۵ به همراه شین پرتو به هند سفر کرد.\n",
      "\n"
     ]
    }
   ],
   "source": [
    "result = conversational_rag_chain.invoke(\n",
    "    {\"input\": \"چه زمانی به هند سفر کرد؟\"},\n",
    "    config={\n",
    "        \"configurable\": {\"session_id\": \"a1\"}\n",
    "    },\n",
    ")[\"answer\"]\n",
    "print(result)"
   ]
  }
 ],
 "metadata": {
  "kernelspec": {
   "display_name": "llmdev",
   "language": "python",
   "name": "python3"
  },
  "language_info": {
   "codemirror_mode": {
    "name": "ipython",
    "version": 3
   },
   "file_extension": ".py",
   "mimetype": "text/x-python",
   "name": "python",
   "nbconvert_exporter": "python",
   "pygments_lexer": "ipython3",
   "version": "3.10.12"
  }
 },
 "nbformat": 4,
 "nbformat_minor": 2
}
